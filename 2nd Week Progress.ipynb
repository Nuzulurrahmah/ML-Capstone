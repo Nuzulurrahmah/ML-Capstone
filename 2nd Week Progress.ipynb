{
  "cells": [
    {
      "cell_type": "code",
      "execution_count": 1,
      "metadata": {
        "colab": {
          "base_uri": "https://localhost:8080/"
        },
        "id": "QlNEk7yDDeum",
        "outputId": "229130c3-d1d5-4813-d56c-1ddcef759cf7"
      },
      "outputs": [
        {
          "output_type": "stream",
          "name": "stdout",
          "text": [
            "cp: cannot stat 'kaggle.json': No such file or directory\n"
          ]
        }
      ],
      "source": [
        "!mkdir -p ~/.kaggle\n",
        "!cp kaggle.json ~/.kaggle/"
      ]
    },
    {
      "cell_type": "code",
      "execution_count": 2,
      "metadata": {
        "colab": {
          "base_uri": "https://localhost:8080/"
        },
        "id": "Ubk4ElEADi4x",
        "outputId": "9607572d-54ac-438a-d3ce-195d64757b9e"
      },
      "outputs": [
        {
          "output_type": "stream",
          "name": "stdout",
          "text": [
            "Dataset URL: https://www.kaggle.com/datasets/agungmrf/indonesian-sign-language-bisindo\n",
            "License(s): unknown\n",
            "Downloading indonesian-sign-language-bisindo.zip to /content\n",
            "100% 1.36G/1.36G [00:14<00:00, 85.0MB/s]\n",
            "100% 1.36G/1.36G [00:14<00:00, 100MB/s] \n"
          ]
        }
      ],
      "source": [
        "!kaggle datasets download -d agungmrf/indonesian-sign-language-bisindo"
      ]
    },
    {
      "cell_type": "code",
      "execution_count": 3,
      "metadata": {
        "id": "MRv87kMiDp5G"
      },
      "outputs": [],
      "source": [
        "import zipfile\n",
        "zip_ref = zipfile.ZipFile('/content/indonesian-sign-language-bisindo.zip', 'r')\n",
        "zip_ref.extractall('/content')\n",
        "zip_ref.close()"
      ]
    },
    {
      "cell_type": "code",
      "execution_count": 4,
      "metadata": {
        "colab": {
          "base_uri": "https://localhost:8080/"
        },
        "id": "9U8ebyBnEJ9o",
        "outputId": "c32017e7-b364-4b7e-e1f2-f6b9d8e00852"
      },
      "outputs": [
        {
          "output_type": "stream",
          "name": "stdout",
          "text": [
            "/content/bisindo\n"
          ]
        }
      ],
      "source": [
        "%cd bisindo"
      ]
    },
    {
      "cell_type": "code",
      "execution_count": 5,
      "metadata": {
        "id": "MetesbbBENId"
      },
      "outputs": [],
      "source": [
        "import os\n",
        "import shutil\n",
        "import numpy as np\n",
        "import tensorflow as tf\n",
        "import matplotlib.pyplot as plt\n",
        "from sklearn.model_selection import train_test_split\n",
        "from tensorflow.keras.preprocessing.image import ImageDataGenerator\n",
        "# from tensorflow.keras.applications import ResNet50\n",
        "from tensorflow.keras.layers import Dense, GlobalAveragePooling2D\n",
        "# from tensorflow.keras.models import Model\n",
        "from tensorflow.keras.optimizers import Adam\n",
        "from PIL import Image\n",
        "from tensorflow.keras import layers, models\n"
      ]
    },
    {
      "cell_type": "code",
      "execution_count": 6,
      "metadata": {
        "id": "YGATtH66FJrn"
      },
      "outputs": [],
      "source": [
        "img_width= 224\n",
        "img_height=224"
      ]
    },
    {
      "cell_type": "code",
      "execution_count": 7,
      "metadata": {
        "id": "zqdqYxNVHSW2"
      },
      "outputs": [],
      "source": [
        "data_train_path = 'images/train'\n",
        "data_val_path = 'images/val'"
      ]
    },
    {
      "cell_type": "code",
      "execution_count": 8,
      "metadata": {
        "id": "WWu2SfPAMvxX"
      },
      "outputs": [],
      "source": [
        "train_datagen = ImageDataGenerator(\n",
        "                    rescale=1. / 255,\n",
        "                    shear_range=0.2,\n",
        "                    zoom_range=0.2,\n",
        "                    horizontal_flip=True,\n",
        "                    validation_split=0.2,\n",
        "                    rotation_range=20\n",
        "                    )"
      ]
    },
    {
      "cell_type": "code",
      "execution_count": 9,
      "metadata": {
        "id": "cWDUURGVMvz3"
      },
      "outputs": [],
      "source": [
        "val_datagen = ImageDataGenerator(\n",
        "                    rescale=1. / 255,\n",
        "                    shear_range=0.2,\n",
        "                    zoom_range=0.2,\n",
        "                    horizontal_flip=True,\n",
        "                    validation_split=0.2,\n",
        "                    rotation_range=20\n",
        "                    )"
      ]
    },
    {
      "cell_type": "code",
      "execution_count": 10,
      "metadata": {
        "colab": {
          "base_uri": "https://localhost:8080/"
        },
        "id": "tSUmvOKkMv2v",
        "outputId": "ead2831a-e4d9-460b-9697-c43186adfb3c"
      },
      "outputs": [
        {
          "output_type": "stream",
          "name": "stdout",
          "text": [
            "Found 9169 images belonging to 26 classes.\n"
          ]
        }
      ],
      "source": [
        "train_generator = train_datagen.flow_from_directory(\n",
        "        data_train_path,\n",
        "        target_size=(224, 224),\n",
        "        batch_size=32,\n",
        "        class_mode='categorical')"
      ]
    },
    {
      "cell_type": "code",
      "execution_count": 11,
      "metadata": {
        "colab": {
          "base_uri": "https://localhost:8080/"
        },
        "id": "aIiLGbYTMv4v",
        "outputId": "ece8e351-769e-46ce-c1f9-02ac8964d5e6"
      },
      "outputs": [
        {
          "output_type": "stream",
          "name": "stdout",
          "text": [
            "Found 2301 images belonging to 26 classes.\n"
          ]
        }
      ],
      "source": [
        "validation_generator = val_datagen.flow_from_directory(\n",
        "        data_val_path,\n",
        "        target_size=(224, 224),\n",
        "        batch_size=32,\n",
        "        class_mode='categorical')"
      ]
    },
    {
      "cell_type": "code",
      "execution_count": 12,
      "metadata": {
        "id": "CZrac7aiNB67"
      },
      "outputs": [],
      "source": [
        "model = models.Sequential([\n",
        "    layers.Conv2D(32, (3, 3), activation='relu', input_shape=(224, 224, 3)),\n",
        "    layers.MaxPooling2D((2, 2)),\n",
        "    layers.Conv2D(64, (3, 3), activation='relu'),\n",
        "    layers.MaxPooling2D((2, 2)),\n",
        "    layers.Conv2D(128, (3, 3), activation='relu'),\n",
        "    layers.MaxPooling2D((2, 2)),\n",
        "    layers.Flatten(),\n",
        "    layers.Dense(128, activation='relu'),\n",
        "    layers.Dense(26, activation='softmax')\n",
        "])"
      ]
    },
    {
      "cell_type": "code",
      "execution_count": 13,
      "metadata": {
        "colab": {
          "base_uri": "https://localhost:8080/"
        },
        "id": "fvocze3xNB9i",
        "outputId": "cfe50a26-52a3-4962-f533-9473d3f48f03"
      },
      "outputs": [
        {
          "output_type": "stream",
          "name": "stdout",
          "text": [
            "Model: \"sequential\"\n",
            "_________________________________________________________________\n",
            " Layer (type)                Output Shape              Param #   \n",
            "=================================================================\n",
            " conv2d (Conv2D)             (None, 222, 222, 32)      896       \n",
            "                                                                 \n",
            " max_pooling2d (MaxPooling2  (None, 111, 111, 32)      0         \n",
            " D)                                                              \n",
            "                                                                 \n",
            " conv2d_1 (Conv2D)           (None, 109, 109, 64)      18496     \n",
            "                                                                 \n",
            " max_pooling2d_1 (MaxPoolin  (None, 54, 54, 64)        0         \n",
            " g2D)                                                            \n",
            "                                                                 \n",
            " conv2d_2 (Conv2D)           (None, 52, 52, 128)       73856     \n",
            "                                                                 \n",
            " max_pooling2d_2 (MaxPoolin  (None, 26, 26, 128)       0         \n",
            " g2D)                                                            \n",
            "                                                                 \n",
            " flatten (Flatten)           (None, 86528)             0         \n",
            "                                                                 \n",
            " dense (Dense)               (None, 128)               11075712  \n",
            "                                                                 \n",
            " dense_1 (Dense)             (None, 26)                3354      \n",
            "                                                                 \n",
            "=================================================================\n",
            "Total params: 11172314 (42.62 MB)\n",
            "Trainable params: 11172314 (42.62 MB)\n",
            "Non-trainable params: 0 (0.00 Byte)\n",
            "_________________________________________________________________\n"
          ]
        }
      ],
      "source": [
        "model.summary()"
      ]
    },
    {
      "cell_type": "code",
      "execution_count": 14,
      "metadata": {
        "id": "ONI2CWGTNKyM"
      },
      "outputs": [],
      "source": [
        "model.compile(loss='categorical_crossentropy',\n",
        "              optimizer='adam',\n",
        "              metrics=['accuracy'])"
      ]
    },
    {
      "cell_type": "code",
      "execution_count": 15,
      "metadata": {
        "colab": {
          "base_uri": "https://localhost:8080/"
        },
        "id": "0_iFDcDtQeJk",
        "outputId": "3a4f0226-a3a1-4f0f-f962-337faf13d8e2"
      },
      "outputs": [
        {
          "output_type": "stream",
          "name": "stdout",
          "text": [
            "Bentuk data batch: (32, 224, 224, 3)\n",
            "Bentuk label batch: (32, 26)\n"
          ]
        }
      ],
      "source": [
        "for data_batch, labels_batch in train_generator:\n",
        "    print(\"Bentuk data batch:\", data_batch.shape)\n",
        "    print(\"Bentuk label batch:\", labels_batch.shape)\n",
        "    break\n"
      ]
    },
    {
      "cell_type": "code",
      "execution_count": 15,
      "metadata": {
        "id": "8bxl6pY8QeMP"
      },
      "outputs": [],
      "source": []
    },
    {
      "cell_type": "code",
      "execution_count": 18,
      "metadata": {
        "colab": {
          "base_uri": "https://localhost:8080/"
        },
        "id": "knxm0GUyNK1N",
        "outputId": "04a88c32-8b6d-499b-d2cf-ee0b04e00063"
      },
      "outputs": [
        {
          "output_type": "stream",
          "name": "stdout",
          "text": [
            "Epoch 1/20\n",
            "20/20 [==============================] - 88s 4s/step - loss: 1.2034 - accuracy: 0.6969 - val_loss: 1.1019 - val_accuracy: 0.7396\n",
            "Epoch 2/20\n",
            "20/20 [==============================] - 87s 4s/step - loss: 1.0548 - accuracy: 0.7094 - val_loss: 1.4207 - val_accuracy: 0.6250\n",
            "Epoch 3/20\n",
            "20/20 [==============================] - 86s 4s/step - loss: 1.0280 - accuracy: 0.7297 - val_loss: 1.4153 - val_accuracy: 0.6562\n",
            "Epoch 4/20\n",
            "20/20 [==============================] - 87s 4s/step - loss: 1.1014 - accuracy: 0.7281 - val_loss: 1.1282 - val_accuracy: 0.6979\n",
            "Epoch 5/20\n",
            "20/20 [==============================] - 87s 4s/step - loss: 1.0989 - accuracy: 0.7219 - val_loss: 1.0440 - val_accuracy: 0.6979\n",
            "Epoch 6/20\n",
            "20/20 [==============================] - 86s 4s/step - loss: 0.9490 - accuracy: 0.7504 - val_loss: 1.1371 - val_accuracy: 0.7188\n",
            "Epoch 7/20\n",
            "20/20 [==============================] - 87s 4s/step - loss: 0.9734 - accuracy: 0.7422 - val_loss: 0.6383 - val_accuracy: 0.8125\n",
            "Epoch 8/20\n",
            "20/20 [==============================] - 87s 4s/step - loss: 1.0005 - accuracy: 0.7359 - val_loss: 0.8350 - val_accuracy: 0.7812\n",
            "Epoch 9/20\n",
            "20/20 [==============================] - 85s 4s/step - loss: 0.9616 - accuracy: 0.7440 - val_loss: 0.7601 - val_accuracy: 0.8021\n",
            "Epoch 10/20\n",
            "20/20 [==============================] - 87s 4s/step - loss: 0.9879 - accuracy: 0.7234 - val_loss: 0.9287 - val_accuracy: 0.7396\n",
            "Epoch 11/20\n",
            "20/20 [==============================] - 87s 4s/step - loss: 0.8224 - accuracy: 0.7828 - val_loss: 0.8738 - val_accuracy: 0.7500\n",
            "Epoch 12/20\n",
            "20/20 [==============================] - 96s 5s/step - loss: 0.8643 - accuracy: 0.7641 - val_loss: 0.9195 - val_accuracy: 0.7604\n",
            "Epoch 13/20\n",
            "20/20 [==============================] - 87s 4s/step - loss: 0.8846 - accuracy: 0.7563 - val_loss: 0.9726 - val_accuracy: 0.7292\n",
            "Epoch 14/20\n",
            "20/20 [==============================] - 87s 4s/step - loss: 0.8957 - accuracy: 0.7453 - val_loss: 0.8363 - val_accuracy: 0.7604\n",
            "Epoch 15/20\n",
            "20/20 [==============================] - 92s 5s/step - loss: 0.8724 - accuracy: 0.7563 - val_loss: 0.8733 - val_accuracy: 0.7812\n",
            "Epoch 16/20\n",
            "20/20 [==============================] - 88s 4s/step - loss: 0.9767 - accuracy: 0.7234 - val_loss: 0.7987 - val_accuracy: 0.7917\n",
            "Epoch 17/20\n",
            "20/20 [==============================] - 95s 5s/step - loss: 0.9054 - accuracy: 0.7547 - val_loss: 0.6134 - val_accuracy: 0.8125\n",
            "Epoch 18/20\n",
            "20/20 [==============================] - 88s 4s/step - loss: 0.7625 - accuracy: 0.7969 - val_loss: 0.8165 - val_accuracy: 0.8021\n",
            "Epoch 19/20\n",
            "20/20 [==============================] - 92s 5s/step - loss: 0.8617 - accuracy: 0.7719 - val_loss: 0.5929 - val_accuracy: 0.8438\n",
            "Epoch 20/20\n",
            "20/20 [==============================] - 87s 4s/step - loss: 0.7930 - accuracy: 0.7828 - val_loss: 0.9045 - val_accuracy: 0.7812\n"
          ]
        }
      ],
      "source": [
        "history=model.fit(train_generator,\n",
        "                  validation_data=validation_generator,\n",
        "                  epochs=20,\n",
        "                  steps_per_epoch=20,\n",
        "                  validation_steps=3,\n",
        "                  verbose=1)"
      ]
    }
  ],
  "metadata": {
    "colab": {
      "provenance": []
    },
    "kernelspec": {
      "display_name": "Python 3",
      "name": "python3"
    },
    "language_info": {
      "name": "python"
    }
  },
  "nbformat": 4,
  "nbformat_minor": 0
}